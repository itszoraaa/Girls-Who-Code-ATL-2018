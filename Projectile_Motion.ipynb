{
  "nbformat": 4,
  "nbformat_minor": 0,
  "metadata": {
    "colab": {
      "name": "Projectile Motion",
      "provenance": [],
      "authorship_tag": "ABX9TyPx84IHKFMbTJTIGU23QaGi",
      "include_colab_link": true
    },
    "kernelspec": {
      "name": "python3",
      "display_name": "Python 3"
    },
    "language_info": {
      "name": "python"
    }
  },
  "cells": [
    {
      "cell_type": "markdown",
      "metadata": {
        "id": "view-in-github",
        "colab_type": "text"
      },
      "source": [
        "<a href=\"https://colab.research.google.com/github/itszoraaa/Girls-Who-Code-ATL-2018/blob/master/Projectile_Motion.ipynb\" target=\"_parent\"><img src=\"https://colab.research.google.com/assets/colab-badge.svg\" alt=\"Open In Colab\"/></a>"
      ]
    },
    {
      "cell_type": "markdown",
      "metadata": {
        "id": "K8L8iXysLLGK"
      },
      "source": [
        "# Graph Projectile Motion"
      ]
    },
    {
      "cell_type": "code",
      "metadata": {
        "id": "fHbaHMC9Kzx_"
      },
      "source": [
        "# importing the math library\n",
        "import numpy as np\n",
        "# this function allows for our data to be graphed\n",
        "import matplotlib.pyplot as plt"
      ],
      "execution_count": null,
      "outputs": []
    },
    {
      "cell_type": "markdown",
      "metadata": {
        "id": "sxJdf2y_LsjW"
      },
      "source": [
        "# Equations for Projectile Motion\n",
        "\n",
        "$$\n",
        "x = (v\\cos\\theta)t\n",
        "$$\n",
        "\n",
        "$$\n",
        "y = -\\frac{1}{2}gt^2 + (v\\sin\\theta)t\n",
        "$$"
      ]
    },
    {
      "cell_type": "code",
      "metadata": {
        "id": "8Lz3E-MgLi2K"
      },
      "source": [
        "t = np.array([0, 0.1, 0.2, 0.3, 0.4, 0.5, 0.6, 0.7, 0.8])\n",
        "v = 10\n",
        "g = 9.81\n",
        "theta = 24 * np.pi / 180\n",
        "x = (v * np.cos(theta)) * t\n",
        "y = -0.5 * g * t**2 + (v * np.sin(theta)) * t"
      ],
      "execution_count": null,
      "outputs": []
    },
    {
      "cell_type": "code",
      "metadata": {
        "colab": {
          "base_uri": "https://localhost:8080/",
          "height": 265
        },
        "id": "JWeW1AmtPHqS",
        "outputId": "304058c5-f4e2-4dff-86c7-7bab279a6f2d"
      },
      "source": [
        "# plotting our data\n",
        "# the \"r-\" indicates that the data will be plotted on the graph in a red line\n",
        "plt.plot(x, y, \"r-\")\n",
        "plt.show()"
      ],
      "execution_count": null,
      "outputs": [
        {
          "output_type": "display_data",
          "data": {
            "image/png": "[encoded data removed]",
            "text/plain": [
              "<Figure size 432x288 with 1 Axes>"
            ]
          },
          "metadata": {
            "tags": [],
            "needs_background": "light"
          }
        }
      ]
    }
  ]
}